{
 "cells": [
  {
   "cell_type": "markdown",
   "id": "6321a1e3",
   "metadata": {},
   "source": [
    "# Final Model for MFCCs "
   ]
  },
  {
   "cell_type": "code",
   "execution_count": 1,
   "id": "7a97d36d",
   "metadata": {},
   "outputs": [],
   "source": [
    "import pandas as pd\n",
    "import numpy as np\n",
    "import os\n",
    "import tensorflow as tf\n",
    "import math\n",
    "import librosa\n",
    "import cv2\n",
    "from sklearn.preprocessing import LabelEncoder\n",
    "from sklearn.model_selection import train_test_split\n",
    "import keras \n",
    "from keras.models import Sequential\n",
    "from keras.layers import Dense, Dropout, Flatten\n",
    "from keras.layers import Conv2D, MaxPool2D\n",
    "from sklearn.preprocessing import MinMaxScaler\n",
    "import matplotlib.pyplot as plt\n",
    "import json\n",
    "from pandas.io.json import json_normalize\n",
    "%matplotlib inline"
   ]
  },
  {
   "cell_type": "markdown",
   "id": "65af01e9",
   "metadata": {},
   "source": [
    "\n",
    "First, I need to extract the audio's MFCCs. I am aware of how limited my dataset is. I want to increase the size of my dataset. Consequently, I divided the audio into 13 segments. This will increase my dataset and allow for greater accuracy. I have skipped over one audio file in the dataset because it was corrupted when I downloaded it. Once the mfccs have been extracted, it will be saved in a JSON file. \n"
   ]
  },
  {
   "cell_type": "code",
   "execution_count": 2,
   "id": "3192cb94",
   "metadata": {},
   "outputs": [],
   "source": [
    "\n",
    "DATASET_PATH = \"data/genres_original\"\n",
    "JSON_PATH = \"mfccs(song_split_into_13parts).json\"\n",
    "SAMPLE_RATE = 22050\n",
    "TRACK_DURATION = 30 # measured in seconds\n",
    "SAMPLES_PER_TRACK = SAMPLE_RATE * TRACK_DURATION\n",
    "\n",
    "\n",
    "def save_mfcc(dataset_path, json_path, num_mfcc=13, n_fft=2048, hop_length=512, num_segments=5):\n",
    "    \"\"\"Extracts MFCCs from music dataset and saves them into a json file along witgh genre labels.\n",
    "        :dataset_path (str): Path to dataset\n",
    "        :json_path (str): Path to json file used to save MFCCs\n",
    "        :num_mfcc (int): Number of coefficients to extract\n",
    "        :n_fft (int): Interval we consider to apply FFT. Measured in # of samples\n",
    "        :hop_length (int): Sliding window for FFT. Measured in # of samples\n",
    "        : num_segments (int): Number of segments we want to divide sample tracks into\n",
    "        \"\"\"\n",
    "\n",
    "    # dictionary to store mapping, labels, and MFCCs\n",
    "    data = {\n",
    "        \"mapping\": [],\n",
    "        \"labels\": [],\n",
    "        \"mfcc\": []\n",
    "    }\n",
    "\n",
    "    samples_per_segment = int(SAMPLES_PER_TRACK / num_segments)\n",
    "    num_mfcc_vectors_per_segment = math.ceil(samples_per_segment / hop_length)\n",
    "\n",
    "    for i, (dirpath, dirnames, filenames) in enumerate(os.walk(dataset_path)):\n",
    "\n",
    " \n",
    "        if dirpath is not dataset_path and dirpath != '.DS_Store': # for mac users, there will be an extra file called .DS_Store \n",
    "\n",
    "\n",
    "            semantic_label = dirpath.split(\"/\")[-1]\n",
    "            data[\"mapping\"].append(semantic_label)\n",
    "            print(\"\\nProcessing: {}\".format(semantic_label))\n",
    "\n",
    "            for f in filenames:\n",
    "\n",
    "    # load audio file\n",
    "                file_path = os.path.join(dirpath, f)\n",
    "                if file_path  != 'data/genres_original/jazz/jazz.00054.wav':\n",
    "                    signal, sample_rate = librosa.load(file_path, sr=SAMPLE_RATE)\n",
    "\n",
    "                   \n",
    "                    for d in range(num_segments):\n",
    "\n",
    "                     \n",
    "                        start = samples_per_segment * d\n",
    "                        finish = start + samples_per_segment\n",
    "\n",
    " \n",
    "                        mfcc = librosa.feature.mfcc(signal[start:finish], sample_rate, n_mfcc=num_mfcc, n_fft=n_fft, hop_length=hop_length)\n",
    "                        mfcc = mfcc.T\n",
    "\n",
    "\n",
    "                        if len(mfcc) == num_mfcc_vectors_per_segment:\n",
    "                            data[\"mfcc\"].append(mfcc.tolist())\n",
    "                            data[\"labels\"].append(i-1)\n",
    "   \n",
    "\n",
    "    # save MFCCs to json file\n",
    "    with open(json_path, \"w\") as fp:\n",
    "        json.dump(data, fp, indent=4)\n",
    "        \n",
    "        \n",
    "# reference 1: https://towardsdatascience.com/music-genre-detection-with-deep-learning-cf89e4cb2ecc (Marc Saint Felix,2021)\n",
    "# reference 2: https://www.kaggle.com/code/tarushijat/music-genre-classification-using-cnn ( Bryan Choo , 2020)"
   ]
  },
  {
   "cell_type": "code",
   "execution_count": 3,
   "id": "a73194bd",
   "metadata": {
    "scrolled": false
   },
   "outputs": [
    {
     "name": "stdout",
     "output_type": "stream",
     "text": [
      "\n",
      "Processing: pop\n",
      "\n",
      "Processing: metal\n",
      "\n",
      "Processing: disco\n",
      "\n",
      "Processing: blues\n",
      "\n",
      "Processing: reggae\n",
      "\n",
      "Processing: classical\n",
      "\n",
      "Processing: rock\n",
      "\n",
      "Processing: hiphop\n",
      "\n",
      "Processing: country\n",
      "\n",
      "Processing: jazz\n"
     ]
    }
   ],
   "source": [
    "save_mfcc(DATASET_PATH, JSON_PATH, num_segments=13)"
   ]
  },
  {
   "cell_type": "markdown",
   "id": "a4f805da",
   "metadata": {},
   "source": [
    "Once all the MFCCs are all saved in the JSON file, I will then extract the information from the file and assign them accordingly. X = MFCCs features y = label(genre of the audio)"
   ]
  },
  {
   "cell_type": "code",
   "execution_count": 3,
   "id": "9024269b",
   "metadata": {},
   "outputs": [],
   "source": [
    "def load_data(data_path):\n",
    "    \n",
    "    with open(data_path, \"r\") as fp:\n",
    "        data = json.load(fp)\n",
    "    # convert lists to numpy arrays\n",
    "    X = np.array(data[\"mfcc\"])\n",
    "    y = np.array(data[\"labels\"])\n",
    "\n",
    "    print(\"Data succesfully loaded!\")\n",
    "    \n",
    "    return X,y\n"
   ]
  },
  {
   "cell_type": "code",
   "execution_count": 4,
   "id": "036a17e1",
   "metadata": {
    "scrolled": true
   },
   "outputs": [
    {
     "name": "stdout",
     "output_type": "stream",
     "text": [
      "Data succesfully loaded!\n",
      "X (12985, 100, 13, 1)\n",
      "y (12985, 10)\n"
     ]
    }
   ],
   "source": [
    "X,y = load_data('./mfccs(song_split_into_13parts).json')\n",
    "\n",
    "# X_norm = data_normalization(X)\n",
    "# X_norm = X_norm[...,np.newaxis]\n",
    "\n",
    "X = X.reshape(X.shape[0],X.shape[1],X.shape[2],1)\n",
    "y = tf.keras.utils.to_categorical(y , num_classes =10)\n",
    "\n",
    "print('X' , X.shape)\n",
    "print('y' , y.shape)\n",
    "\n",
    " # (num_samples,130,13,1)\n",
    " "
   ]
  },
  {
   "cell_type": "markdown",
   "id": "679a23ea",
   "metadata": {},
   "source": [
    "Once the information has been successfully loaded, it is time to split the dataset. \n",
    "\n",
    "80% training set \n",
    "20% test set \n",
    "\n",
    "Within the training set, \n",
    "20% would be for the validation set. \n",
    "\n",
    "When training the model, the model will be trained using the partial training set and will be evaluated against the validation set. Once i am satisfied with the validation accuracy, i will then train the whole trainign set and then evaluate against the test set. "
   ]
  },
  {
   "cell_type": "code",
   "execution_count": 5,
   "id": "e007bc55",
   "metadata": {
    "scrolled": true
   },
   "outputs": [
    {
     "name": "stdout",
     "output_type": "stream",
     "text": [
      "X_train (10388, 100, 13, 1)\n",
      "X_test (2597, 100, 13, 1)\n",
      "Y_train (10388, 10)\n",
      "Y_test (2597, 10)\n",
      "______________\n",
      "x_train (8310, 100, 13, 1)\n",
      "x_val (2078, 100, 13, 1)\n",
      "y_train (8310, 10)\n",
      "y_val (2078, 10)\n"
     ]
    }
   ],
   "source": [
    "X_train, X_test, Y_train, Y_test = train_test_split(X, y, test_size=0.2)\n",
    "x_train, x_val, y_train, y_val = train_test_split(X_train, Y_train, test_size=0.2)\n",
    "print('X_train',X_train.shape)\n",
    "print('X_test',X_test.shape)\n",
    "print('Y_train',Y_train.shape)\n",
    "print('Y_test',Y_test.shape)\n",
    "print('______________')\n",
    "print('x_train',x_train.shape)\n",
    "print('x_val',x_val.shape)\n",
    "print('y_train',y_train.shape)\n",
    "print('y_val',y_val.shape)"
   ]
  },
  {
   "cell_type": "code",
   "execution_count": 6,
   "id": "b9ebd009",
   "metadata": {},
   "outputs": [
    {
     "data": {
      "text/plain": [
       "(8310, 100, 13, 1)"
      ]
     },
     "execution_count": 6,
     "metadata": {},
     "output_type": "execute_result"
    }
   ],
   "source": [
    "x_train.shape"
   ]
  },
  {
   "cell_type": "code",
   "execution_count": 7,
   "id": "ecda2883",
   "metadata": {},
   "outputs": [
    {
     "data": {
      "text/plain": [
       "(100, 13, 1)"
      ]
     },
     "execution_count": 7,
     "metadata": {},
     "output_type": "execute_result"
    }
   ],
   "source": [
    "# input_shape = (x_train.shape[1],x_train.shape[2],1)\n",
    "# input_shape\n",
    "input_shape = (X_train.shape[1],X_train.shape[2],X_train.shape[3])\n",
    "input_shape"
   ]
  },
  {
   "cell_type": "markdown",
   "id": "fcc79f11",
   "metadata": {},
   "source": [
    "This is the helper code when i want to plot the validation accuracy / loss graph. "
   ]
  },
  {
   "cell_type": "code",
   "execution_count": 8,
   "id": "84757581",
   "metadata": {},
   "outputs": [],
   "source": [
    "def plot_metric(history, metric):\n",
    "    train_metrics = history.history[metric] #take the history of the model\n",
    "    val_metrics = history.history['val_'+metric] #what meteric i want to plot \n",
    "    epochs = range(1, len(train_metrics) + 1)# plot against the epochs \n",
    "    plt.plot(epochs, train_metrics)\n",
    "    plt.plot(epochs, val_metrics)\n",
    "    plt.title('Training and validation '+ metric) # title of the graph \n",
    "    plt.xlabel(\"Epochs\") #label for the x label \n",
    "    plt.ylabel(metric) #label for the y label\n",
    "    plt.legend([\"train_\"+metric, 'val_'+metric])\n",
    "    plt.show()"
   ]
  },
  {
   "cell_type": "markdown",
   "id": "11ca24d6",
   "metadata": {},
   "source": [
    "# CNN"
   ]
  },
  {
   "cell_type": "markdown",
   "id": "b8b97219",
   "metadata": {},
   "source": [
    "I would first build the first model and then take the validation accuracy as my base model. Using the categoroical loss function , the adam optimizer and a stop early callback to prevent overfitting, the model achieve an validation accuracy of 70.6%"
   ]
  },
  {
   "cell_type": "code",
   "execution_count": 13,
   "id": "32fc4d0c",
   "metadata": {},
   "outputs": [],
   "source": [
    "import tensorflow.keras as keras\n",
    "\n",
    "\n",
    "def build_model(input_shape):\n",
    "    model = keras.Sequential()\n",
    "    model.add(keras.layers.Conv2D(32 , (3,3) ,activation = 'relu', input_shape=input_shape,kernel_regularizer =tf.keras.regularizers.l2( l=0.001)))\n",
    "    model.add(keras.layers.MaxPooling2D((3,3),strides=(2,2),padding='same'))\n",
    "    model.add(keras.layers.BatchNormalization())\n",
    "\n",
    "    model.add(keras.layers.Conv2D(128 , (3,3) ,activation = 'relu',kernel_regularizer =tf.keras.regularizers.l2( l=0.001)))\n",
    "    model.add(keras.layers.MaxPooling2D((3,3),strides=(2,2),padding='same'))\n",
    "    model.add(keras.layers.BatchNormalization())\n",
    "\n",
    "    \n",
    "    model.add(keras.layers.Flatten())\n",
    "    model.add(keras.layers.Dense(128,activation = 'relu',kernel_regularizer =tf.keras.regularizers.l2( l=0.001)))\n",
    "    model.add(keras.layers.Dropout(0.3))\n",
    "    model.add(keras.layers.Dense(10,activation='softmax'))\n",
    "    \n",
    "    return model"
   ]
  },
  {
   "cell_type": "code",
   "execution_count": 14,
   "id": "1953e8d6",
   "metadata": {},
   "outputs": [],
   "source": [
    "input_shape = (X_train.shape[1],X_train.shape[2],X_train.shape[3])\n",
    "model = build_model(input_shape)\n",
    "optimizer =  keras.optimizers.Adam(learning_rate=0.001)\n",
    "model.compile(optimizer = optimizer ,loss = 'categorical_crossentropy',metrics=['accuracy'])"
   ]
  },
  {
   "cell_type": "code",
   "execution_count": 15,
   "id": "8e1e7aed",
   "metadata": {
    "scrolled": true
   },
   "outputs": [
    {
     "name": "stdout",
     "output_type": "stream",
     "text": [
      "Epoch 1/30\n",
      "260/260 [==============================] - 12s 42ms/step - loss: 1.9093 - accuracy: 0.4463 - val_loss: 1.6122 - val_accuracy: 0.5072\n",
      "Epoch 2/30\n",
      "260/260 [==============================] - 11s 41ms/step - loss: 1.5450 - accuracy: 0.5449 - val_loss: 1.3469 - val_accuracy: 0.6150\n",
      "Epoch 3/30\n",
      "260/260 [==============================] - 10s 40ms/step - loss: 1.3875 - accuracy: 0.5964 - val_loss: 1.2982 - val_accuracy: 0.6415\n",
      "Epoch 4/30\n",
      "260/260 [==============================] - 10s 40ms/step - loss: 1.2793 - accuracy: 0.6401 - val_loss: 1.3149 - val_accuracy: 0.6429\n",
      "Epoch 5/30\n",
      "260/260 [==============================] - 11s 43ms/step - loss: 1.1664 - accuracy: 0.6915 - val_loss: 1.2200 - val_accuracy: 0.7002\n",
      "Epoch 6/30\n",
      "260/260 [==============================] - 10s 40ms/step - loss: 1.1276 - accuracy: 0.7172 - val_loss: 1.2629 - val_accuracy: 0.6910\n",
      "Epoch 7/30\n",
      "260/260 [==============================] - 11s 40ms/step - loss: 1.0490 - accuracy: 0.7614 - val_loss: 1.4905 - val_accuracy: 0.6280\n",
      "Epoch 8/30\n",
      "260/260 [==============================] - 11s 42ms/step - loss: 1.0048 - accuracy: 0.7829 - val_loss: 1.2553 - val_accuracy: 0.7069\n"
     ]
    }
   ],
   "source": [
    "tf.random.set_seed(3) \n",
    "stop_early = tf.keras.callbacks.EarlyStopping(monitor='val_loss', patience=3)\n",
    "history = model.fit(x_train,y_train,validation_data=(x_val,y_val),batch_size=32,epochs=30,callbacks=[stop_early])"
   ]
  },
  {
   "cell_type": "code",
   "execution_count": 16,
   "id": "72917884",
   "metadata": {
    "scrolled": false
   },
   "outputs": [
    {
     "data": {
      "image/png": "[encoded data removed]",
      "text/plain": [
       "<Figure size 432x288 with 1 Axes>"
      ]
     },
     "metadata": {
      "needs_background": "light"
     },
     "output_type": "display_data"
    }
   ],
   "source": [
    "plot_metric(history,'accuracy')"
   ]
  },
  {
   "cell_type": "markdown",
   "id": "99ee10a6",
   "metadata": {},
   "source": [
    "Setting 70.6% as the base accuracy, we can continue use the keras tuner to help us do the hyperparameter tuning. I first build the hypermodel architect and each of the layers, i would include a range of neurons for the tuner to search, including the dropout layer neurons. I would also add l2 regularizers at each of the layers to prevent overfitting. To top it off, I have also added a choice where the tuner would need to choose the learning rate of the adam optimizer. As for the loss function, it would remain the same as the base model."
   ]
  },
  {
   "cell_type": "markdown",
   "id": "501c6fd7",
   "metadata": {},
   "source": [
    "#### Architect 1"
   ]
  },
  {
   "cell_type": "code",
   "execution_count": 10,
   "id": "1fff33eb",
   "metadata": {},
   "outputs": [],
   "source": [
    "def build_model(hp):\n",
    "    model = keras.Sequential()\n",
    "    model.add(keras.layers.Conv2D( filters=hp.Int('conv_1_filter', min_value=16, max_value=128, step=16) ,\n",
    "                                  kernel_size=hp.Choice('conv_1_kernel', values = [3,5]),\n",
    "                                  activation = 'relu', \n",
    "                                  input_shape=input_shape,\n",
    "                                  kernel_regularizer =tf.keras.regularizers.l2( l=0.001)))\n",
    "    model.add(keras.layers.MaxPooling2D((3,3),strides=(2,2),padding='same'))\n",
    "    model.add(keras.layers.BatchNormalization())\n",
    "\n",
    "    model.add(keras.layers.Conv2D(filters=hp.Int('conv_2_filter', min_value=32, max_value=128, step=16),\n",
    "                                  kernel_size=hp.Choice('conv_2_kernel', values = [3,5]),\n",
    "                                  activation = 'relu',\n",
    "                                  kernel_regularizer =tf.keras.regularizers.l2( l=0.001)))\n",
    "    model.add(keras.layers.MaxPooling2D((3,3),strides=(2,2),padding='same'))\n",
    "    model.add(keras.layers.BatchNormalization())\n",
    "\n",
    "    \n",
    "    model.add(keras.layers.Flatten())\n",
    "    model.add(keras.layers.Dense(units=hp.Int('dense_1_units', min_value=32, max_value=128, step=16),\n",
    "                                 activation = 'relu',\n",
    "                                 kernel_regularizer =tf.keras.regularizers.l2( l=0.001)))\n",
    "    model.add(keras.layers.Dropout(hp.Float('dropout_2',min_value=0.0,max_value=0.5,default=0.25,step=0.05)))\n",
    "    model.add(keras.layers.Dense(10,activation='softmax'))\n",
    "    model.compile(optimizer=keras.optimizers.Adam(hp.Choice('learning_rate', values=[1e-2, 1e-3, 1e-4])),\n",
    "              loss='categorical_crossentropy',\n",
    "              metrics=['accuracy'])\n",
    "    return model"
   ]
  },
  {
   "cell_type": "code",
   "execution_count": 11,
   "id": "f612d3cf",
   "metadata": {},
   "outputs": [
    {
     "name": "stdout",
     "output_type": "stream",
     "text": [
      "INFO:tensorflow:Reloading Oracle from existing project CNN_2D_A1/FYP_model/oracle.json\n"
     ]
    },
    {
     "name": "stderr",
     "output_type": "stream",
     "text": [
      "/var/folders/22/qly4z7kd12j_7539lt57vw_00000gn/T/ipykernel_1776/893604305.py:1: DeprecationWarning: `import kerastuner` is deprecated, please use `import keras_tuner`.\n",
      "  import kerastuner as kt\n",
      "2022-08-22 23:06:06.663152: I tensorflow/core/platform/cpu_feature_guard.cc:193] This TensorFlow binary is optimized with oneAPI Deep Neural Network Library (oneDNN) to use the following CPU instructions in performance-critical operations:  AVX2 FMA\n",
      "To enable them in other operations, rebuild TensorFlow with the appropriate compiler flags.\n"
     ]
    },
    {
     "name": "stdout",
     "output_type": "stream",
     "text": [
      "INFO:tensorflow:Reloading Tuner from CNN_2D_A1/FYP_model/tuner0.json\n"
     ]
    }
   ],
   "source": [
    "import kerastuner as kt\n",
    "tuner = kt.Hyperband(build_model, # the hypermodel\n",
    "                     objective='val_accuracy', # objective to optimize\n",
    "max_epochs=30,\n",
    "factor=3, # factor which you have seen above \n",
    "directory='CNN_2D_A1/', # directory to save logs \n",
    "project_name='FYP_model')"
   ]
  },
  {
   "cell_type": "code",
   "execution_count": 12,
   "id": "49e78a75",
   "metadata": {
    "scrolled": true
   },
   "outputs": [
    {
     "name": "stdout",
     "output_type": "stream",
     "text": [
      "Search space summary\n",
      "Default search space size: 7\n",
      "conv_1_filter (Int)\n",
      "{'default': None, 'conditions': [], 'min_value': 16, 'max_value': 128, 'step': 16, 'sampling': None}\n",
      "conv_1_kernel (Choice)\n",
      "{'default': 3, 'conditions': [], 'values': [3, 5], 'ordered': True}\n",
      "conv_2_filter (Int)\n",
      "{'default': None, 'conditions': [], 'min_value': 32, 'max_value': 128, 'step': 16, 'sampling': None}\n",
      "conv_2_kernel (Choice)\n",
      "{'default': 3, 'conditions': [], 'values': [3, 5], 'ordered': True}\n",
      "dense_1_units (Int)\n",
      "{'default': None, 'conditions': [], 'min_value': 32, 'max_value': 128, 'step': 16, 'sampling': None}\n",
      "dropout_2 (Float)\n",
      "{'default': 0.25, 'conditions': [], 'min_value': 0.0, 'max_value': 0.5, 'step': 0.05, 'sampling': None}\n",
      "learning_rate (Choice)\n",
      "{'default': 0.01, 'conditions': [], 'values': [0.01, 0.001, 0.0001], 'ordered': True}\n"
     ]
    }
   ],
   "source": [
    "tuner.search_space_summary() "
   ]
  },
  {
   "cell_type": "code",
   "execution_count": 20,
   "id": "c1d7d27c",
   "metadata": {
    "scrolled": true
   },
   "outputs": [
    {
     "name": "stdout",
     "output_type": "stream",
     "text": [
      "Trial 90 Complete [00h 02m 08s]\n",
      "val_accuracy: 0.5187680721282959\n",
      "\n",
      "Best val_accuracy So Far: 0.7699711322784424\n",
      "Total elapsed time: 01h 49m 23s\n",
      "INFO:tensorflow:Oracle triggered exit\n"
     ]
    }
   ],
   "source": [
    "stop_early = tf.keras.callbacks.EarlyStopping(monitor='val_loss', patience=3) \n",
    "# Perform hypertuning\n",
    "tuner.search(x_train, y_train, epochs=30, validation_data=(x_val,y_val), batch_size = 32, callbacks=[stop_early])"
   ]
  },
  {
   "cell_type": "markdown",
   "id": "944fbbc8",
   "metadata": {},
   "source": [
    "After a number of trials, we can see the best validation accuracy that the tuner managed to achieve 76.9%.  With this, i take the best hyperparameter and build another validation model with a stop early callback to prevent overfitting. However, it stopped at epoch 13 as the stop early callback is activated when the validation loss dosent improve after 3 epochs."
   ]
  },
  {
   "cell_type": "code",
   "execution_count": 13,
   "id": "b577beae",
   "metadata": {
    "scrolled": false
   },
   "outputs": [
    {
     "data": {
      "text/plain": [
       "{'conv_1_filter': 112,\n",
       " 'conv_1_kernel': 5,\n",
       " 'conv_2_filter': 112,\n",
       " 'conv_2_kernel': 5,\n",
       " 'dense_1_units': 64,\n",
       " 'dropout_2': 0.35000000000000003,\n",
       " 'learning_rate': 0.0001,\n",
       " 'tuner/epochs': 30,\n",
       " 'tuner/initial_epoch': 10,\n",
       " 'tuner/bracket': 2,\n",
       " 'tuner/round': 2,\n",
       " 'tuner/trial_id': '0068'}"
      ]
     },
     "execution_count": 13,
     "metadata": {},
     "output_type": "execute_result"
    }
   ],
   "source": [
    "best_hp = tuner.get_best_hyperparameters()[0]\n",
    "best_hp.values"
   ]
  },
  {
   "cell_type": "code",
   "execution_count": 15,
   "id": "b7899942",
   "metadata": {
    "scrolled": false
   },
   "outputs": [
    {
     "name": "stdout",
     "output_type": "stream",
     "text": [
      "Model: \"sequential_2\"\n",
      "_________________________________________________________________\n",
      " Layer (type)                Output Shape              Param #   \n",
      "=================================================================\n",
      " conv2d_4 (Conv2D)           (None, 96, 9, 112)        2912      \n",
      "                                                                 \n",
      " max_pooling2d_4 (MaxPooling  (None, 48, 5, 112)       0         \n",
      " 2D)                                                             \n",
      "                                                                 \n",
      " batch_normalization_4 (Batc  (None, 48, 5, 112)       448       \n",
      " hNormalization)                                                 \n",
      "                                                                 \n",
      " conv2d_5 (Conv2D)           (None, 44, 1, 112)        313712    \n",
      "                                                                 \n",
      " max_pooling2d_5 (MaxPooling  (None, 22, 1, 112)       0         \n",
      " 2D)                                                             \n",
      "                                                                 \n",
      " batch_normalization_5 (Batc  (None, 22, 1, 112)       448       \n",
      " hNormalization)                                                 \n",
      "                                                                 \n",
      " flatten_2 (Flatten)         (None, 2464)              0         \n",
      "                                                                 \n",
      " dense_4 (Dense)             (None, 64)                157760    \n",
      "                                                                 \n",
      " dropout_2 (Dropout)         (None, 64)                0         \n",
      "                                                                 \n",
      " dense_5 (Dense)             (None, 10)                650       \n",
      "                                                                 \n",
      "=================================================================\n",
      "Total params: 475,930\n",
      "Trainable params: 475,482\n",
      "Non-trainable params: 448\n",
      "_________________________________________________________________\n",
      "Epoch 1/30\n",
      "260/260 [==============================] - 19s 69ms/step - loss: 1.9900 - accuracy: 0.4213 - val_loss: 1.5221 - val_accuracy: 0.5529\n",
      "Epoch 2/30\n",
      "260/260 [==============================] - 18s 69ms/step - loss: 1.5386 - accuracy: 0.5450 - val_loss: 1.3329 - val_accuracy: 0.6150\n",
      "Epoch 3/30\n",
      "260/260 [==============================] - 19s 72ms/step - loss: 1.3586 - accuracy: 0.6100 - val_loss: 1.1848 - val_accuracy: 0.6670\n",
      "Epoch 4/30\n",
      "260/260 [==============================] - 18s 68ms/step - loss: 1.2383 - accuracy: 0.6467 - val_loss: 1.1899 - val_accuracy: 0.6689\n",
      "Epoch 5/30\n",
      "260/260 [==============================] - 19s 71ms/step - loss: 1.1357 - accuracy: 0.6900 - val_loss: 1.1106 - val_accuracy: 0.6886\n",
      "Epoch 6/30\n",
      "260/260 [==============================] - 18s 69ms/step - loss: 1.0281 - accuracy: 0.7279 - val_loss: 1.0361 - val_accuracy: 0.7257\n",
      "Epoch 7/30\n",
      "260/260 [==============================] - 17s 66ms/step - loss: 0.9642 - accuracy: 0.7513 - val_loss: 1.0160 - val_accuracy: 0.7286\n",
      "Epoch 8/30\n",
      "260/260 [==============================] - 18s 70ms/step - loss: 0.9044 - accuracy: 0.7727 - val_loss: 1.0792 - val_accuracy: 0.7113\n",
      "Epoch 9/30\n",
      "260/260 [==============================] - 18s 70ms/step - loss: 0.8347 - accuracy: 0.7921 - val_loss: 0.9845 - val_accuracy: 0.7406\n",
      "Epoch 10/30\n",
      "260/260 [==============================] - 17s 66ms/step - loss: 0.7860 - accuracy: 0.8093 - val_loss: 0.9451 - val_accuracy: 0.7579\n",
      "Epoch 11/30\n",
      "260/260 [==============================] - 17s 64ms/step - loss: 0.7434 - accuracy: 0.8253 - val_loss: 0.9649 - val_accuracy: 0.7522\n",
      "Epoch 12/30\n",
      "260/260 [==============================] - 18s 68ms/step - loss: 0.7033 - accuracy: 0.8428 - val_loss: 0.9521 - val_accuracy: 0.7498\n",
      "Epoch 13/30\n",
      "260/260 [==============================] - 18s 69ms/step - loss: 0.6614 - accuracy: 0.8532 - val_loss: 0.9641 - val_accuracy: 0.7676\n"
     ]
    }
   ],
   "source": [
    "h_model = tuner.hypermodel.build(best_hp)\n",
    "h_model.summary()\n",
    "stop_early = tf.keras.callbacks.EarlyStopping(monitor='val_loss', patience=3) \n",
    "tf.random.set_seed(3) \n",
    "h_model_history = h_model.fit(x_train, y_train, epochs=30, validation_data = (x_val,y_val), batch_size = 32, callbacks=[stop_early])"
   ]
  },
  {
   "cell_type": "code",
   "execution_count": 17,
   "id": "a1b78f6a",
   "metadata": {
    "scrolled": true
   },
   "outputs": [
    {
     "data": {
      "image/png": "[encoded data removed]",
      "text/plain": [
       "<Figure size 432x288 with 1 Axes>"
      ]
     },
     "metadata": {
      "needs_background": "light"
     },
     "output_type": "display_data"
    }
   ],
   "source": [
    "plot_metric(h_model_history,'accuracy')"
   ]
  },
  {
   "cell_type": "markdown",
   "id": "25e443d1",
   "metadata": {},
   "source": [
    "After that, we built a model using the best hyperparameter to train the entire training set and compare it to the test set. Since the model starts to stabilize at epoch 10, I chose to use that value. Consequently, the model was trained using the optimal hyperparameter combination and 10 iterations, yielding an accuracy of 77.32%.\n"
   ]
  },
  {
   "cell_type": "code",
   "execution_count": 18,
   "id": "3d36569b",
   "metadata": {},
   "outputs": [
    {
     "name": "stdout",
     "output_type": "stream",
     "text": [
      "Epoch 1/10\n",
      "325/325 [==============================] - 21s 62ms/step - loss: 1.9475 - accuracy: 0.4286 - val_loss: 1.5282 - val_accuracy: 0.5375\n",
      "Epoch 2/10\n",
      "325/325 [==============================] - 19s 60ms/step - loss: 1.4863 - accuracy: 0.5657 - val_loss: 1.2714 - val_accuracy: 0.6515\n",
      "Epoch 3/10\n",
      "325/325 [==============================] - 20s 60ms/step - loss: 1.3130 - accuracy: 0.6264 - val_loss: 1.2184 - val_accuracy: 0.6623\n",
      "Epoch 4/10\n",
      "325/325 [==============================] - 20s 61ms/step - loss: 1.1773 - accuracy: 0.6771 - val_loss: 1.1749 - val_accuracy: 0.6692\n",
      "Epoch 5/10\n",
      "325/325 [==============================] - 21s 65ms/step - loss: 1.0680 - accuracy: 0.7107 - val_loss: 1.0867 - val_accuracy: 0.7023\n",
      "Epoch 6/10\n",
      "325/325 [==============================] - 26s 81ms/step - loss: 0.9868 - accuracy: 0.7424 - val_loss: 1.0120 - val_accuracy: 0.7297\n",
      "Epoch 7/10\n",
      "325/325 [==============================] - 23s 72ms/step - loss: 0.9202 - accuracy: 0.7611 - val_loss: 0.9812 - val_accuracy: 0.7343\n",
      "Epoch 8/10\n",
      "325/325 [==============================] - 23s 71ms/step - loss: 0.8492 - accuracy: 0.7903 - val_loss: 0.9780 - val_accuracy: 0.7439\n",
      "Epoch 9/10\n",
      "325/325 [==============================] - 22s 66ms/step - loss: 0.7887 - accuracy: 0.8124 - val_loss: 0.9347 - val_accuracy: 0.7582\n",
      "Epoch 10/10\n",
      "325/325 [==============================] - 21s 65ms/step - loss: 0.7467 - accuracy: 0.8216 - val_loss: 0.9035 - val_accuracy: 0.7732\n"
     ]
    }
   ],
   "source": [
    "hypermodel = tuner.hypermodel.build(best_hp)\n",
    "tf.random.set_seed(3) \n",
    "# Retrain the modelii\n",
    "h_model_history_with_best_epochs = hypermodel.fit(X_train, Y_train, epochs=10, validation_data = (X_test,Y_test), batch_size = 32, callbacks=[stop_early])"
   ]
  },
  {
   "cell_type": "code",
   "execution_count": 19,
   "id": "0b76bd2e",
   "metadata": {
    "scrolled": false
   },
   "outputs": [
    {
     "data": {
      "image/png": "[encoded data removed]",
      "text/plain": [
       "<Figure size 432x288 with 1 Axes>"
      ]
     },
     "metadata": {
      "needs_background": "light"
     },
     "output_type": "display_data"
    }
   ],
   "source": [
    "plot_metric(h_model_history_with_best_epochs,'accuracy')"
   ]
  },
  {
   "cell_type": "code",
   "execution_count": 20,
   "id": "8666d1f2",
   "metadata": {
    "scrolled": true
   },
   "outputs": [
    {
     "name": "stdout",
     "output_type": "stream",
     "text": [
      "82/82 [==============================] - 2s 20ms/step - loss: 0.9035 - accuracy: 0.7732\n"
     ]
    },
    {
     "data": {
      "text/plain": [
       "77.31998562812805"
      ]
     },
     "execution_count": 20,
     "metadata": {},
     "output_type": "execute_result"
    }
   ],
   "source": [
    "test_loss, test_accuracy= hypermodel.evaluate(X_test,Y_test)\n",
    "test_accuracy*100"
   ]
  },
  {
   "cell_type": "markdown",
   "id": "02af68d6",
   "metadata": {},
   "source": [
    "I don't think the accuracy has much room for improvement given the 77.32% accuracy yield. For this reason, I modified the hyper model architecture to include a drop-out layer and l1_ l2 regularization at the layers, as well as to increase the neuron  range in the layer. As soon as the hypermodel architect was changed from the previous hypermodel architect, the best validation accuracy increased from the previous tuner search from 76.9% to 82.3%, as can be seen."
   ]
  },
  {
   "cell_type": "markdown",
   "id": "3eb3a6fd",
   "metadata": {},
   "source": [
    "#### Architect 2 ( With dropout and l1_l2 regularization) "
   ]
  },
  {
   "cell_type": "code",
   "execution_count": 9,
   "id": "e7118e33",
   "metadata": {},
   "outputs": [],
   "source": [
    "import tensorflow.keras as keras\n",
    "\n",
    "def build_model_A2(hp):\n",
    "    model = keras.Sequential()\n",
    "    model.add(keras.layers.Conv2D( filters=hp.Int('conv_1_filter', min_value=32, max_value=128, step=16) ,\n",
    "                                  kernel_size=hp.Choice('conv_1_kernel', values = [3,5]),\n",
    "                                  activation = 'relu', \n",
    "                                  input_shape=input_shape,\n",
    "                                  kernel_regularizer=tf.keras.regularizers.l1_l2(hp.Choice('rate', values=[1e-2, 1e-3,1e-4]))))\n",
    "    model.add(keras.layers.MaxPooling2D((3,3),strides=(2,2),padding='same'))\n",
    "    model.add(keras.layers.BatchNormalization())\n",
    "\n",
    "    model.add(keras.layers.Conv2D(filters=hp.Int('conv_2_filter', min_value=128, max_value=256, step=16),\n",
    "                                  kernel_size=hp.Choice('conv_2_kernel', values = [3,5]),\n",
    "                                  activation = 'relu',\n",
    "                                   kernel_regularizer=tf.keras.regularizers.l1_l2(hp.Choice('rate', values=[1e-2, 1e-3,1e-4]))))\n",
    "    model.add(keras.layers.MaxPooling2D((3,3),strides=(2,2),padding='same'))\n",
    "    model.add(keras.layers.BatchNormalization())\n",
    "\n",
    "    model.add(keras.layers.Flatten())\n",
    "    for i in range(hp.Int('n_connections', 1, 3)):\n",
    "        model.add(keras.layers.Dense(units=hp.Int('dense_1_units', min_value=32, max_value=128, step=16),\n",
    "                                 activation = 'relu',\n",
    "                                 kernel_regularizer=tf.keras.regularizers.l1_l2(hp.Choice('rate', values=[1e-2, 1e-3,1e-4]))))\n",
    "\n",
    "    model.add(keras.layers.Dropout(hp.Float('dropout_2',min_value=0.0,max_value=0.5,default=0.25,step=0.05)))\n",
    "    model.add(keras.layers.Dense(10,activation='softmax'))\n",
    "    model.compile(optimizer=keras.optimizers.Adam(hp.Choice('learning_rate', values=[1e-2, 1e-3, 1e-4])),\n",
    "              loss='categorical_crossentropy',\n",
    "              metrics=['accuracy'])\n",
    "    return model\n",
    "# CNN --> discover the features, performed better than enginnered features \n",
    "# comment why cannot get it better "
   ]
  },
  {
   "cell_type": "code",
   "execution_count": 10,
   "id": "d8db91f4",
   "metadata": {
    "scrolled": true
   },
   "outputs": [
    {
     "name": "stdout",
     "output_type": "stream",
     "text": [
      "INFO:tensorflow:Reloading Oracle from existing project CNN_2D_A2/FYP_model/oracle.json\n"
     ]
    },
    {
     "name": "stderr",
     "output_type": "stream",
     "text": [
      "/var/folders/22/qly4z7kd12j_7539lt57vw_00000gn/T/ipykernel_9762/379051079.py:1: DeprecationWarning: `import kerastuner` is deprecated, please use `import keras_tuner`.\n",
      "  import kerastuner as kt\n",
      "2022-08-25 21:04:15.537495: I tensorflow/core/platform/cpu_feature_guard.cc:193] This TensorFlow binary is optimized with oneAPI Deep Neural Network Library (oneDNN) to use the following CPU instructions in performance-critical operations:  AVX2 FMA\n",
      "To enable them in other operations, rebuild TensorFlow with the appropriate compiler flags.\n"
     ]
    },
    {
     "name": "stdout",
     "output_type": "stream",
     "text": [
      "INFO:tensorflow:Reloading Tuner from CNN_2D_A2/FYP_model/tuner0.json\n"
     ]
    }
   ],
   "source": [
    "import kerastuner as kt\n",
    "tuner = kt.Hyperband(build_model_A2, # the hypermodel\n",
    "                     objective='val_accuracy', # objective to optimize\n",
    "max_epochs=30,\n",
    "factor=3, # factor which you have seen above \n",
    "directory='CNN_2D_A2/', # directory to save logs \n",
    "project_name='FYP_model')"
   ]
  },
  {
   "cell_type": "code",
   "execution_count": 11,
   "id": "4f372037",
   "metadata": {
    "scrolled": true
   },
   "outputs": [
    {
     "name": "stdout",
     "output_type": "stream",
     "text": [
      "Search space summary\n",
      "Default search space size: 9\n",
      "conv_1_filter (Int)\n",
      "{'default': None, 'conditions': [], 'min_value': 32, 'max_value': 128, 'step': 16, 'sampling': None}\n",
      "conv_1_kernel (Choice)\n",
      "{'default': 3, 'conditions': [], 'values': [3, 5], 'ordered': True}\n",
      "rate (Choice)\n",
      "{'default': 0.01, 'conditions': [], 'values': [0.01, 0.001, 0.0001], 'ordered': True}\n",
      "conv_2_filter (Int)\n",
      "{'default': None, 'conditions': [], 'min_value': 128, 'max_value': 256, 'step': 16, 'sampling': None}\n",
      "conv_2_kernel (Choice)\n",
      "{'default': 3, 'conditions': [], 'values': [3, 5], 'ordered': True}\n",
      "n_connections (Int)\n",
      "{'default': None, 'conditions': [], 'min_value': 1, 'max_value': 3, 'step': 1, 'sampling': None}\n",
      "dense_1_units (Int)\n",
      "{'default': None, 'conditions': [], 'min_value': 32, 'max_value': 128, 'step': 16, 'sampling': None}\n",
      "dropout_2 (Float)\n",
      "{'default': 0.25, 'conditions': [], 'min_value': 0.0, 'max_value': 0.5, 'step': 0.05, 'sampling': None}\n",
      "learning_rate (Choice)\n",
      "{'default': 0.01, 'conditions': [], 'values': [0.01, 0.001, 0.0001], 'ordered': True}\n"
     ]
    }
   ],
   "source": [
    "tuner.search_space_summary() "
   ]
  },
  {
   "cell_type": "code",
   "execution_count": 67,
   "id": "0ae91658",
   "metadata": {},
   "outputs": [
    {
     "name": "stdout",
     "output_type": "stream",
     "text": [
      "Trial 90 Complete [00h 17m 04s]\n",
      "val_accuracy: 0.8075072169303894\n",
      "\n",
      "Best val_accuracy So Far: 0.8238691091537476\n",
      "Total elapsed time: 03h 09m 56s\n",
      "INFO:tensorflow:Oracle triggered exit\n"
     ]
    }
   ],
   "source": [
    "stop_early = tf.keras.callbacks.EarlyStopping(monitor='val_loss', patience=3)\n",
    "tuner.search(x_train,y_train,epochs=30,validation_data=(x_val,y_val),batch_size = 32, callbacks=[stop_early])\n"
   ]
  },
  {
   "cell_type": "code",
   "execution_count": 12,
   "id": "4104e6a7",
   "metadata": {
    "scrolled": false
   },
   "outputs": [
    {
     "data": {
      "text/plain": [
       "{'conv_1_filter': 128,\n",
       " 'conv_1_kernel': 5,\n",
       " 'rate': 0.0001,\n",
       " 'conv_2_filter': 160,\n",
       " 'conv_2_kernel': 5,\n",
       " 'n_connections': 3,\n",
       " 'dense_1_units': 128,\n",
       " 'dropout_2': 0.1,\n",
       " 'learning_rate': 0.0001,\n",
       " 'tuner/epochs': 30,\n",
       " 'tuner/initial_epoch': 10,\n",
       " 'tuner/bracket': 2,\n",
       " 'tuner/round': 2,\n",
       " 'tuner/trial_id': '0067'}"
      ]
     },
     "execution_count": 12,
     "metadata": {},
     "output_type": "execute_result"
    }
   ],
   "source": [
    "best_hp_2 = tuner.get_best_hyperparameters()[0]\n",
    "best_hp_2.values"
   ]
  },
  {
   "cell_type": "markdown",
   "id": "f1cea48e",
   "metadata": {},
   "source": [
    "Using the best hyperparameter combination along with a stop early callback and a model checkpoint callback, I rebuilt the model. The model checkpoint allows me to determine whether the validation loss has decreased since the previous epoch, and if so, the model is saved as the best one since it has the lowest validation loss. As a result, I was able to validate data with an acceptable accuracy of 82.7%.\n"
   ]
  },
  {
   "cell_type": "code",
   "execution_count": 46,
   "id": "405dddbc",
   "metadata": {
    "scrolled": false
   },
   "outputs": [
    {
     "name": "stdout",
     "output_type": "stream",
     "text": [
      "Model: \"sequential_4\"\n",
      "_________________________________________________________________\n",
      " Layer (type)                Output Shape              Param #   \n",
      "=================================================================\n",
      " conv2d_8 (Conv2D)           (None, 96, 9, 128)        3328      \n",
      "                                                                 \n",
      " max_pooling2d_8 (MaxPooling  (None, 48, 5, 128)       0         \n",
      " 2D)                                                             \n",
      "                                                                 \n",
      " batch_normalization_8 (Batc  (None, 48, 5, 128)       512       \n",
      " hNormalization)                                                 \n",
      "                                                                 \n",
      " conv2d_9 (Conv2D)           (None, 44, 1, 160)        512160    \n",
      "                                                                 \n",
      " max_pooling2d_9 (MaxPooling  (None, 22, 1, 160)       0         \n",
      " 2D)                                                             \n",
      "                                                                 \n",
      " batch_normalization_9 (Batc  (None, 22, 1, 160)       640       \n",
      " hNormalization)                                                 \n",
      "                                                                 \n",
      " flatten_4 (Flatten)         (None, 3520)              0         \n",
      "                                                                 \n",
      " dense_14 (Dense)            (None, 128)               450688    \n",
      "                                                                 \n",
      " dense_15 (Dense)            (None, 128)               16512     \n",
      "                                                                 \n",
      " dense_16 (Dense)            (None, 128)               16512     \n",
      "                                                                 \n",
      " dropout_4 (Dropout)         (None, 128)               0         \n",
      "                                                                 \n",
      " dense_17 (Dense)            (None, 10)                1290      \n",
      "                                                                 \n",
      "=================================================================\n",
      "Total params: 1,001,642\n",
      "Trainable params: 1,001,066\n",
      "Non-trainable params: 576\n",
      "_________________________________________________________________\n",
      "Epoch 1/30\n",
      "260/260 [==============================] - ETA: 0s - loss: 9.2624 - accuracy: 0.4777\n",
      "Epoch 1: val_loss improved from inf to 8.52691, saving model to my_best_model_MFCCs.hdf5\n",
      "260/260 [==============================] - 26s 98ms/step - loss: 9.2624 - accuracy: 0.4777 - val_loss: 8.5269 - val_accuracy: 0.5308\n",
      "Epoch 2/30\n",
      "260/260 [==============================] - ETA: 0s - loss: 7.6709 - accuracy: 0.6428\n",
      "Epoch 2: val_loss improved from 8.52691 to 7.25226, saving model to my_best_model_MFCCs.hdf5\n",
      "260/260 [==============================] - 24s 93ms/step - loss: 7.6709 - accuracy: 0.6428 - val_loss: 7.2523 - val_accuracy: 0.6078\n",
      "Epoch 3/30\n",
      "260/260 [==============================] - ETA: 0s - loss: 6.5468 - accuracy: 0.7030\n",
      "Epoch 3: val_loss improved from 7.25226 to 6.17471, saving model to my_best_model_MFCCs.hdf5\n",
      "260/260 [==============================] - 24s 92ms/step - loss: 6.5468 - accuracy: 0.7030 - val_loss: 6.1747 - val_accuracy: 0.6781\n",
      "Epoch 4/30\n",
      "260/260 [==============================] - ETA: 0s - loss: 5.6026 - accuracy: 0.7602\n",
      "Epoch 4: val_loss improved from 6.17471 to 5.32223, saving model to my_best_model_MFCCs.hdf5\n",
      "260/260 [==============================] - 24s 93ms/step - loss: 5.6026 - accuracy: 0.7602 - val_loss: 5.3222 - val_accuracy: 0.7382\n",
      "Epoch 5/30\n",
      "260/260 [==============================] - ETA: 0s - loss: 4.8522 - accuracy: 0.8010\n",
      "Epoch 5: val_loss improved from 5.32223 to 4.65665, saving model to my_best_model_MFCCs.hdf5\n",
      "260/260 [==============================] - 24s 92ms/step - loss: 4.8522 - accuracy: 0.8010 - val_loss: 4.6566 - val_accuracy: 0.7603\n",
      "Epoch 6/30\n",
      "260/260 [==============================] - ETA: 0s - loss: 4.2222 - accuracy: 0.8339\n",
      "Epoch 6: val_loss improved from 4.65665 to 4.12852, saving model to my_best_model_MFCCs.hdf5\n",
      "260/260 [==============================] - 25s 94ms/step - loss: 4.2222 - accuracy: 0.8339 - val_loss: 4.1285 - val_accuracy: 0.7666\n",
      "Epoch 7/30\n",
      "260/260 [==============================] - ETA: 0s - loss: 3.6838 - accuracy: 0.8716\n",
      "Epoch 7: val_loss improved from 4.12852 to 3.85067, saving model to my_best_model_MFCCs.hdf5\n",
      "260/260 [==============================] - 25s 96ms/step - loss: 3.6838 - accuracy: 0.8716 - val_loss: 3.8507 - val_accuracy: 0.7194\n",
      "Epoch 8/30\n",
      "260/260 [==============================] - ETA: 0s - loss: 3.2471 - accuracy: 0.8857\n",
      "Epoch 8: val_loss improved from 3.85067 to 3.47550, saving model to my_best_model_MFCCs.hdf5\n",
      "260/260 [==============================] - 24s 93ms/step - loss: 3.2471 - accuracy: 0.8857 - val_loss: 3.4755 - val_accuracy: 0.7445\n",
      "Epoch 9/30\n",
      "260/260 [==============================] - ETA: 0s - loss: 2.8936 - accuracy: 0.9005\n",
      "Epoch 9: val_loss improved from 3.47550 to 2.98977, saving model to my_best_model_MFCCs.hdf5\n",
      "260/260 [==============================] - 25s 96ms/step - loss: 2.8936 - accuracy: 0.9005 - val_loss: 2.9898 - val_accuracy: 0.7940\n",
      "Epoch 10/30\n",
      "260/260 [==============================] - ETA: 0s - loss: 2.5693 - accuracy: 0.9155\n",
      "Epoch 10: val_loss improved from 2.98977 to 2.72562, saving model to my_best_model_MFCCs.hdf5\n",
      "260/260 [==============================] - 25s 95ms/step - loss: 2.5693 - accuracy: 0.9155 - val_loss: 2.7256 - val_accuracy: 0.8013\n",
      "Epoch 11/30\n",
      "260/260 [==============================] - ETA: 0s - loss: 2.3172 - accuracy: 0.9244\n",
      "Epoch 11: val_loss improved from 2.72562 to 2.56982, saving model to my_best_model_MFCCs.hdf5\n",
      "260/260 [==============================] - 25s 94ms/step - loss: 2.3172 - accuracy: 0.9244 - val_loss: 2.5698 - val_accuracy: 0.7806\n",
      "Epoch 12/30\n",
      "260/260 [==============================] - ETA: 0s - loss: 2.0945 - accuracy: 0.9315\n",
      "Epoch 12: val_loss improved from 2.56982 to 2.43365, saving model to my_best_model_MFCCs.hdf5\n",
      "260/260 [==============================] - 25s 95ms/step - loss: 2.0945 - accuracy: 0.9315 - val_loss: 2.4336 - val_accuracy: 0.7729\n",
      "Epoch 13/30\n",
      "260/260 [==============================] - ETA: 0s - loss: 1.8946 - accuracy: 0.9425\n",
      "Epoch 13: val_loss improved from 2.43365 to 2.25113, saving model to my_best_model_MFCCs.hdf5\n",
      "260/260 [==============================] - 25s 95ms/step - loss: 1.8946 - accuracy: 0.9425 - val_loss: 2.2511 - val_accuracy: 0.7844\n",
      "Epoch 14/30\n",
      "260/260 [==============================] - ETA: 0s - loss: 1.7368 - accuracy: 0.9455\n",
      "Epoch 14: val_loss did not improve from 2.25113\n",
      "260/260 [==============================] - 25s 96ms/step - loss: 1.7368 - accuracy: 0.9455 - val_loss: 2.2791 - val_accuracy: 0.7218\n",
      "Epoch 15/30\n",
      "260/260 [==============================] - ETA: 0s - loss: 1.5975 - accuracy: 0.9492\n",
      "Epoch 15: val_loss improved from 2.25113 to 1.90809, saving model to my_best_model_MFCCs.hdf5\n",
      "260/260 [==============================] - 24s 94ms/step - loss: 1.5975 - accuracy: 0.9492 - val_loss: 1.9081 - val_accuracy: 0.8104\n",
      "Epoch 16/30\n",
      "260/260 [==============================] - ETA: 0s - loss: 1.4762 - accuracy: 0.9539\n",
      "Epoch 16: val_loss improved from 1.90809 to 1.84197, saving model to my_best_model_MFCCs.hdf5\n",
      "260/260 [==============================] - 25s 95ms/step - loss: 1.4762 - accuracy: 0.9539 - val_loss: 1.8420 - val_accuracy: 0.8013\n",
      "Epoch 17/30\n",
      "260/260 [==============================] - ETA: 0s - loss: 1.3733 - accuracy: 0.9568\n",
      "Epoch 17: val_loss improved from 1.84197 to 1.67398, saving model to my_best_model_MFCCs.hdf5\n",
      "260/260 [==============================] - 24s 94ms/step - loss: 1.3733 - accuracy: 0.9568 - val_loss: 1.6740 - val_accuracy: 0.8215\n",
      "Epoch 18/30\n",
      "260/260 [==============================] - ETA: 0s - loss: 1.2682 - accuracy: 0.9626\n",
      "Epoch 18: val_loss improved from 1.67398 to 1.61525, saving model to my_best_model_MFCCs.hdf5\n",
      "260/260 [==============================] - 25s 95ms/step - loss: 1.2682 - accuracy: 0.9626 - val_loss: 1.6153 - val_accuracy: 0.8128\n",
      "Epoch 19/30\n",
      "260/260 [==============================] - ETA: 0s - loss: 1.1776 - accuracy: 0.9653\n",
      "Epoch 19: val_loss improved from 1.61525 to 1.60033, saving model to my_best_model_MFCCs.hdf5\n"
     ]
    },
    {
     "name": "stdout",
     "output_type": "stream",
     "text": [
      "260/260 [==============================] - 25s 98ms/step - loss: 1.1776 - accuracy: 0.9653 - val_loss: 1.6003 - val_accuracy: 0.7926\n",
      "Epoch 20/30\n",
      "260/260 [==============================] - ETA: 0s - loss: 1.1179 - accuracy: 0.9663\n",
      "Epoch 20: val_loss improved from 1.60033 to 1.49579, saving model to my_best_model_MFCCs.hdf5\n",
      "260/260 [==============================] - 24s 91ms/step - loss: 1.1179 - accuracy: 0.9663 - val_loss: 1.4958 - val_accuracy: 0.8138\n",
      "Epoch 21/30\n",
      "260/260 [==============================] - ETA: 0s - loss: 1.0529 - accuracy: 0.9680\n",
      "Epoch 21: val_loss improved from 1.49579 to 1.45958, saving model to my_best_model_MFCCs.hdf5\n",
      "260/260 [==============================] - 24s 93ms/step - loss: 1.0529 - accuracy: 0.9680 - val_loss: 1.4596 - val_accuracy: 0.8013\n",
      "Epoch 22/30\n",
      "260/260 [==============================] - ETA: 0s - loss: 1.0202 - accuracy: 0.9600\n",
      "Epoch 22: val_loss did not improve from 1.45958\n",
      "260/260 [==============================] - 24s 92ms/step - loss: 1.0202 - accuracy: 0.9600 - val_loss: 1.5265 - val_accuracy: 0.7863\n",
      "Epoch 23/30\n",
      "260/260 [==============================] - ETA: 0s - loss: 0.9603 - accuracy: 0.9643\n",
      "Epoch 23: val_loss improved from 1.45958 to 1.33794, saving model to my_best_model_MFCCs.hdf5\n",
      "260/260 [==============================] - 24s 91ms/step - loss: 0.9603 - accuracy: 0.9643 - val_loss: 1.3379 - val_accuracy: 0.8287\n",
      "Epoch 24/30\n",
      "260/260 [==============================] - ETA: 0s - loss: 0.9249 - accuracy: 0.9641\n",
      "Epoch 24: val_loss did not improve from 1.33794\n",
      "260/260 [==============================] - 24s 92ms/step - loss: 0.9249 - accuracy: 0.9641 - val_loss: 1.5820 - val_accuracy: 0.7502\n",
      "Epoch 25/30\n",
      "260/260 [==============================] - ETA: 0s - loss: 0.8819 - accuracy: 0.9685\n",
      "Epoch 25: val_loss improved from 1.33794 to 1.25066, saving model to my_best_model_MFCCs.hdf5\n",
      "260/260 [==============================] - 24s 93ms/step - loss: 0.8819 - accuracy: 0.9685 - val_loss: 1.2507 - val_accuracy: 0.8282\n",
      "Epoch 26/30\n",
      "260/260 [==============================] - ETA: 0s - loss: 0.8341 - accuracy: 0.9693\n",
      "Epoch 26: val_loss did not improve from 1.25066\n",
      "260/260 [==============================] - 24s 93ms/step - loss: 0.8341 - accuracy: 0.9693 - val_loss: 1.2807 - val_accuracy: 0.8065\n",
      "Epoch 27/30\n",
      "260/260 [==============================] - ETA: 0s - loss: 0.8278 - accuracy: 0.9674\n",
      "Epoch 27: val_loss did not improve from 1.25066\n",
      "260/260 [==============================] - 24s 93ms/step - loss: 0.8278 - accuracy: 0.9674 - val_loss: 1.3782 - val_accuracy: 0.7825\n",
      "Epoch 28/30\n",
      "260/260 [==============================] - ETA: 0s - loss: 0.7822 - accuracy: 0.9704\n",
      "Epoch 28: val_loss improved from 1.25066 to 1.23621, saving model to my_best_model_MFCCs.hdf5\n",
      "260/260 [==============================] - 25s 95ms/step - loss: 0.7822 - accuracy: 0.9704 - val_loss: 1.2362 - val_accuracy: 0.8094\n",
      "Epoch 29/30\n",
      "260/260 [==============================] - ETA: 0s - loss: 0.7503 - accuracy: 0.9748\n",
      "Epoch 29: val_loss improved from 1.23621 to 1.22282, saving model to my_best_model_MFCCs.hdf5\n",
      "260/260 [==============================] - 24s 94ms/step - loss: 0.7503 - accuracy: 0.9748 - val_loss: 1.2228 - val_accuracy: 0.8114\n",
      "Epoch 30/30\n",
      "260/260 [==============================] - ETA: 0s - loss: 0.7498 - accuracy: 0.9685\n",
      "Epoch 30: val_loss improved from 1.22282 to 1.15588, saving model to my_best_model_MFCCs.hdf5\n",
      "260/260 [==============================] - 25s 95ms/step - loss: 0.7498 - accuracy: 0.9685 - val_loss: 1.1559 - val_accuracy: 0.8277\n"
     ]
    }
   ],
   "source": [
    "from keras.callbacks import ModelCheckpoint\n",
    "from keras.models import load_model\n",
    "h_model_2 = tuner.hypermodel.build(best_hp_2)\n",
    "h_model_2.summary()\n",
    "tf.random.set_seed(3) \n",
    "stop_early = tf.keras.callbacks.EarlyStopping(monitor='val_loss', patience=3)\n",
    "filepath = 'my_best_model_MFCCs.hdf5'\n",
    "checkpoint = ModelCheckpoint(filepath=filepath, \n",
    "                             monitor='val_loss',\n",
    "                             verbose=1, \n",
    "                             save_best_only=True,\n",
    "                             mode='min')\n",
    "callbacks = [stop_early,checkpoint]\n",
    "h_model_2_history = h_model_2.fit(x_train, y_train, epochs=30, validation_data = (x_val,y_val), batch_size = 32, callbacks=callbacks)\n"
   ]
  },
  {
   "cell_type": "code",
   "execution_count": 48,
   "id": "cdf55293",
   "metadata": {
    "scrolled": true
   },
   "outputs": [
    {
     "data": {
      "image/png": "[encoded data removed]",
      "text/plain": [
       "<Figure size 432x288 with 1 Axes>"
      ]
     },
     "metadata": {
      "needs_background": "light"
     },
     "output_type": "display_data"
    }
   ],
   "source": [
    "plot_metric(h_model_2_history,'accuracy')"
   ]
  },
  {
   "cell_type": "markdown",
   "id": "14fffe20",
   "metadata": {},
   "source": [
    "Considering that the best model was saved and the validation accuracy was satisfactory. They were trained using the entire training set after I loaded the saved model. Since the model was stable at epoch 5, I chose to train the entire training set over 5 epochs and evaluate the results to the test set. This led to me having an 81.6% test accuracy."
   ]
  },
  {
   "cell_type": "code",
   "execution_count": 51,
   "id": "5b580d4e",
   "metadata": {
    "scrolled": true
   },
   "outputs": [
    {
     "name": "stdout",
     "output_type": "stream",
     "text": [
      "Epoch 1/5\n",
      "325/325 [==============================] - 29s 88ms/step - loss: 0.8890 - accuracy: 0.9171 - val_loss: 1.3938 - val_accuracy: 0.7536\n",
      "Epoch 2/5\n",
      "325/325 [==============================] - 28s 86ms/step - loss: 0.8061 - accuracy: 0.9451 - val_loss: 1.1479 - val_accuracy: 0.8156\n",
      "Epoch 3/5\n",
      "325/325 [==============================] - 29s 88ms/step - loss: 0.7274 - accuracy: 0.9649 - val_loss: 1.0975 - val_accuracy: 0.8375\n",
      "Epoch 4/5\n",
      "325/325 [==============================] - 28s 87ms/step - loss: 0.6944 - accuracy: 0.9696 - val_loss: 1.2330 - val_accuracy: 0.7851\n",
      "Epoch 5/5\n",
      "325/325 [==============================] - 28s 87ms/step - loss: 0.6868 - accuracy: 0.9671 - val_loss: 1.1303 - val_accuracy: 0.8163\n"
     ]
    }
   ],
   "source": [
    "tf.random.set_seed(3) \n",
    "final_model = load_model(filepath)\n",
    "h_model_2_history_with_best_epochs = final_model.fit(X_train, Y_train, epochs=5, validation_data = (X_test,Y_test), batch_size = 32, callbacks=[stop_early])"
   ]
  },
  {
   "cell_type": "code",
   "execution_count": 54,
   "id": "b6a6d4cb",
   "metadata": {},
   "outputs": [
    {
     "data": {
      "image/png": "[encoded data removed]",
      "text/plain": [
       "<Figure size 432x288 with 1 Axes>"
      ]
     },
     "metadata": {
      "needs_background": "light"
     },
     "output_type": "display_data"
    }
   ],
   "source": [
    "plot_metric(h_model_2_history_with_best_epochs,'accuracy')"
   ]
  },
  {
   "cell_type": "code",
   "execution_count": 55,
   "id": "21e3720e",
   "metadata": {
    "scrolled": false
   },
   "outputs": [
    {
     "name": "stdout",
     "output_type": "stream",
     "text": [
      "82/82 [==============================] - 2s 26ms/step - loss: 1.1303 - accuracy: 0.8163\n",
      "test accuracy fro second model 81.63265585899353\n"
     ]
    }
   ],
   "source": [
    "test_loss,test_accuracy = final_model.evaluate(X_test,Y_test)\n",
    "print('test accuracy fro second model', test_accuracy*100)"
   ]
  },
  {
   "cell_type": "markdown",
   "id": "3c8f58c9",
   "metadata": {},
   "source": [
    "\n",
    "As can be seen, the test accuracy has significantly increased from the previous model (77.3%). I'll use this model as my 2D CNN final model as a result. Below is the classification report of the model. The precision, recall, and f1 score are all within an average of 82%, as can be seen, which is a good sign. \n"
   ]
  },
  {
   "cell_type": "code",
   "execution_count": 56,
   "id": "cbe193fc",
   "metadata": {},
   "outputs": [
    {
     "name": "stdout",
     "output_type": "stream",
     "text": [
      "82/82 [==============================] - 2s 24ms/step\n",
      "              precision    recall  f1-score   support\n",
      "\n",
      "           0       0.90      0.79      0.84       234\n",
      "           1       0.87      0.91      0.89       284\n",
      "           2       0.72      0.93      0.81       250\n",
      "           3       0.92      0.76      0.83       259\n",
      "           4       0.87      0.80      0.83       274\n",
      "           5       0.86      0.99      0.92       250\n",
      "           6       0.76      0.54      0.63       275\n",
      "           7       0.98      0.69      0.81       263\n",
      "           8       0.60      0.90      0.72       261\n",
      "           9       0.88      0.86      0.87       247\n",
      "\n",
      "    accuracy                           0.82      2597\n",
      "   macro avg       0.84      0.82      0.82      2597\n",
      "weighted avg       0.83      0.82      0.82      2597\n",
      "\n"
     ]
    }
   ],
   "source": [
    "from sklearn.metrics import classification_report\n",
    "\n",
    "# predict \n",
    "y_pred = final_model.predict(X_test, batch_size = 32)\n",
    "y_pred = np.argmax(y_pred, axis=1)\n",
    "# label\n",
    "y_ground_truth = np.argmax(Y_test, axis=1)\n",
    "\n",
    "print(classification_report(y_ground_truth, y_pred))"
   ]
  },
  {
   "cell_type": "markdown",
   "id": "1b91fb55",
   "metadata": {},
   "source": [
    "However, it doesnt beat the accuracy of the other 3 models ( KNN, SVM and the Sequential Model), which has an average of 90%. Hence, i will be taking SVM as my final model as it has the highest test accuracy. "
   ]
  },
  {
   "cell_type": "markdown",
   "id": "c928ac5d",
   "metadata": {},
   "source": [
    "___________________"
   ]
  }
 ],
 "metadata": {
  "kernelspec": {
   "display_name": "Python 3 (ipykernel)",
   "language": "python",
   "name": "python3"
  },
  "language_info": {
   "codemirror_mode": {
    "name": "ipython",
    "version": 3
   },
   "file_extension": ".py",
   "mimetype": "text/x-python",
   "name": "python",
   "nbconvert_exporter": "python",
   "pygments_lexer": "ipython3",
   "version": "3.8.5"
  }
 },
 "nbformat": 4,
 "nbformat_minor": 5
}
